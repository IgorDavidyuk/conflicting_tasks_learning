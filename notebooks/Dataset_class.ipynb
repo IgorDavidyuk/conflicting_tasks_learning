{
 "cells": [
  {
   "cell_type": "code",
   "execution_count": 1,
   "metadata": {
    "scrolled": true
   },
   "outputs": [],
   "source": [
    "import os\n",
    "import sys\n",
    "import torch\n",
    "import cv2\n",
    "import pandas as pd\n",
    "import numpy as np\n",
    "import matplotlib.pyplot as plt\n",
    "from torch.utils.data import Dataset, DataLoader\n",
    "from torchvision import transforms, utils\n",
    "\n",
    "sys.path.append('../dataset/')\n",
    "from create_google_fonts_dataset import parse_gf_metadata, save_rendered_glyphs\n",
    "from classification_dataset import CharClassificationDataset\n",
    "\n",
    "%load_ext autoreload\n",
    "%autoreload 2"
   ]
  },
  {
   "cell_type": "code",
   "execution_count": 2,
   "metadata": {},
   "outputs": [
    {
     "data": {
      "text/plain": [
       "0.449"
      ]
     },
     "execution_count": 2,
     "metadata": {},
     "output_type": "execute_result"
    }
   ],
   "source": [
    "tfs = transforms.Compose([\n",
    "#     transforms.RandomHorizontalFlip(),\n",
    "#     transforms.RandomVerticalFlip(),\n",
    "#     transforms.ColorJitter(hue=.05, saturation=.10),\n",
    "#     transforms.RandomRotation(10, resample=PIL.Image.BILINEAR),\n",
    "    transforms.Resize((224, 224)),\n",
    "#     transforms.RandomResizedCrop(224,scale=(0.91, 0.99)),\n",
    "    \n",
    "    transforms.ToTensor(),\n",
    "    transforms.Normalize(mean=[np.mean([0.485, 0.456, 0.406])],\n",
    "                                 std=[np.mean([0.229, 0.224, 0.225])])                           \n",
    "])\n",
    "np.mean([0.485, 0.456, 0.406])"
   ]
  },
  {
   "cell_type": "code",
   "execution_count": 3,
   "metadata": {
    "scrolled": true
   },
   "outputs": [],
   "source": [
    "ofl_path = '../dataset/fonts/ofl/'\n",
    "fonts_data = parse_gf_metadata(ofl_path) # google fonts dataframe\n",
    "\n",
    "# construct letter set\n",
    "capital_alphabet = 'ABCDEFGHIJKLMNOPQRSTUVWXYZ'\n",
    "char_set = capital_alphabet\n",
    "for char in 'OQMWIN': # removing problematic symbols\n",
    "    char_set = char_set.replace(char, '')\n",
    "\n",
    "# creating dataset\n",
    "root_dir = '../dataset/rendered_set/'\n",
    "dataset_c = CharClassificationDataset(fonts_data[:10], root_dir, char_set, transform=tfs)\n"
   ]
  },
  {
   "cell_type": "code",
   "execution_count": 4,
   "metadata": {
    "scrolled": true
   },
   "outputs": [
    {
     "data": {
      "text/plain": [
       "tensor([[[-1.9867, -1.9867, -1.9867,  ..., -1.9867, -1.9867, -1.9867],\n",
       "         [-1.9867, -1.9867, -1.9867,  ..., -1.9867, -1.9867, -1.9867],\n",
       "         [-1.9867, -1.9867, -1.9867,  ..., -1.9867, -1.9867, -1.9867],\n",
       "         ...,\n",
       "         [-1.9867, -1.9867, -1.9867,  ..., -1.9867, -1.9867, -1.9867],\n",
       "         [-1.9867, -1.9867, -1.9867,  ..., -1.9867, -1.9867, -1.9867],\n",
       "         [-1.9867, -1.9867, -1.9867,  ..., -1.9867, -1.9867, -1.9867]]])"
      ]
     },
     "execution_count": 4,
     "metadata": {},
     "output_type": "execute_result"
    }
   ],
   "source": [
    "# plt.imshow()\n",
    "dataset_c[0][0]"
   ]
  },
  {
   "cell_type": "code",
   "execution_count": 31,
   "metadata": {},
   "outputs": [
    {
     "data": {
      "text/plain": [
       "tensor([[[-2.1179, -2.1179, -2.1179, -2.1179, -2.1179, -2.1179, -2.1179,\n",
       "          -2.1179, -2.1179, -2.1179],\n",
       "         [-2.1179, -2.1179, -2.1179, -2.1179, -2.1179, -2.1179, -2.1179,\n",
       "          -2.1179, -2.1179, -2.1179],\n",
       "         [-2.1179, -2.1179, -2.1179, -2.1179, -2.1179, -2.1179, -2.1179,\n",
       "          -2.1179, -2.1179, -2.1179],\n",
       "         [-2.1179, -2.1179, -2.1179, -2.1179, -2.1179, -2.1179, -2.1179,\n",
       "          -2.1179, -2.1179, -2.1179],\n",
       "         [-2.1179, -2.1179, -2.1179, -2.1179, -2.1179, -2.1179, -2.1179,\n",
       "          -2.1179, -2.1179, -2.1179],\n",
       "         [-2.1179, -2.1179, -2.1179, -2.1179, -2.1179, -2.1179, -2.1179,\n",
       "          -2.1179, -2.1179, -2.1179],\n",
       "         [-2.1179, -2.1179, -2.1179, -2.1179, -2.1179, -2.1179, -2.1179,\n",
       "          -2.1179, -2.1179, -2.1179],\n",
       "         [-2.1179, -2.1179, -2.1179, -2.1179, -2.1179, -2.1179, -2.1179,\n",
       "          -2.1179, -2.1179, -2.1179],\n",
       "         [-2.1179, -2.1179, -2.1179, -2.1179, -2.1179, -2.1179, -2.1179,\n",
       "          -2.1179, -2.1179, -2.1179],\n",
       "         [-2.1179, -2.1179, -2.1179, -2.1179, -2.1179, -2.1179, -2.1179,\n",
       "          -2.1179, -2.1179, -2.1179]],\n",
       "\n",
       "        [[-2.0357, -2.0357, -2.0357, -2.0357, -2.0357, -2.0357, -2.0357,\n",
       "          -2.0357, -2.0357, -2.0357],\n",
       "         [-2.0357, -2.0357, -2.0357, -2.0357, -2.0357, -2.0357, -2.0357,\n",
       "          -2.0357, -2.0357, -2.0357],\n",
       "         [-2.0357, -2.0357, -2.0357, -2.0357, -2.0357, -2.0357, -2.0357,\n",
       "          -2.0357, -2.0357, -2.0357],\n",
       "         [-2.0357, -2.0357, -2.0357, -2.0357, -2.0357, -2.0357, -2.0357,\n",
       "          -2.0357, -2.0357, -2.0357],\n",
       "         [-2.0357, -2.0357, -2.0357, -2.0357, -2.0357, -2.0357, -2.0357,\n",
       "          -2.0357, -2.0357, -2.0357],\n",
       "         [-2.0357, -2.0357, -2.0357, -2.0357, -2.0357, -2.0357, -2.0357,\n",
       "          -2.0357, -2.0357, -2.0357],\n",
       "         [-2.0357, -2.0357, -2.0357, -2.0357, -2.0357, -2.0357, -2.0357,\n",
       "          -2.0357, -2.0357, -2.0357],\n",
       "         [-2.0357, -2.0357, -2.0357, -2.0357, -2.0357, -2.0357, -2.0357,\n",
       "          -2.0357, -2.0357, -2.0357],\n",
       "         [-2.0357, -2.0357, -2.0357, -2.0357, -2.0357, -2.0357, -2.0357,\n",
       "          -2.0357, -2.0357, -2.0357],\n",
       "         [-2.0357, -2.0357, -2.0357, -2.0357, -2.0357, -2.0357, -2.0357,\n",
       "          -2.0357, -2.0357, -2.0357]],\n",
       "\n",
       "        [[-1.8044, -1.8044, -1.8044, -1.8044, -1.8044, -1.8044, -1.8044,\n",
       "          -1.8044, -1.8044, -1.8044],\n",
       "         [-1.8044, -1.8044, -1.8044, -1.8044, -1.8044, -1.8044, -1.8044,\n",
       "          -1.8044, -1.8044, -1.8044],\n",
       "         [-1.8044, -1.8044, -1.8044, -1.8044, -1.8044, -1.8044, -1.8044,\n",
       "          -1.8044, -1.8044, -1.8044],\n",
       "         [-1.8044, -1.8044, -1.8044, -1.8044, -1.8044, -1.8044, -1.8044,\n",
       "          -1.8044, -1.8044, -1.8044],\n",
       "         [-1.8044, -1.8044, -1.8044, -1.8044, -1.8044, -1.8044, -1.8044,\n",
       "          -1.8044, -1.8044, -1.8044],\n",
       "         [-1.8044, -1.8044, -1.8044, -1.8044, -1.8044, -1.8044, -1.8044,\n",
       "          -1.8044, -1.8044, -1.8044],\n",
       "         [-1.8044, -1.8044, -1.8044, -1.8044, -1.8044, -1.8044, -1.8044,\n",
       "          -1.8044, -1.8044, -1.8044],\n",
       "         [-1.8044, -1.8044, -1.8044, -1.8044, -1.8044, -1.8044, -1.8044,\n",
       "          -1.8044, -1.8044, -1.8044],\n",
       "         [-1.8044, -1.8044, -1.8044, -1.8044, -1.8044, -1.8044, -1.8044,\n",
       "          -1.8044, -1.8044, -1.8044],\n",
       "         [-1.8044, -1.8044, -1.8044, -1.8044, -1.8044, -1.8044, -1.8044,\n",
       "          -1.8044, -1.8044, -1.8044]]], dtype=torch.float64)"
      ]
     },
     "execution_count": 31,
     "metadata": {},
     "output_type": "execute_result"
    }
   ],
   "source": [
    "norm_trans = transforms.Compose([transforms.ToTensor(),\n",
    "                                 transforms.Normalize(mean=[0.485, 0.456, 0.406],\n",
    "                                 std=[0.229, 0.224, 0.225])])\n",
    "from PIL import Image\n",
    "img = Image.open('../../Datasets/nn_mask/1_10.jpg')\n",
    "norm_trans(np.zeros((10,10,3)))"
   ]
  },
  {
   "cell_type": "code",
   "execution_count": 7,
   "metadata": {},
   "outputs": [
    {
     "ename": "NameError",
     "evalue": "name 'dataset' is not defined",
     "output_type": "error",
     "traceback": [
      "\u001b[0;31m---------------------------------------------------------------------------\u001b[0m",
      "\u001b[0;31mNameError\u001b[0m                                 Traceback (most recent call last)",
      "\u001b[0;32m<ipython-input-7-63cec1ab902c>\u001b[0m in \u001b[0;36m<module>\u001b[0;34m\u001b[0m\n\u001b[1;32m      1\u001b[0m \u001b[0mbatch_size\u001b[0m \u001b[0;34m=\u001b[0m \u001b[0;36m64\u001b[0m\u001b[0;34m\u001b[0m\u001b[0;34m\u001b[0m\u001b[0m\n\u001b[1;32m      2\u001b[0m \u001b[0;34m\u001b[0m\u001b[0m\n\u001b[0;32m----> 3\u001b[0;31m \u001b[0mdata_size\u001b[0m \u001b[0;34m=\u001b[0m \u001b[0mlen\u001b[0m\u001b[0;34m(\u001b[0m\u001b[0mdataset\u001b[0m\u001b[0;34m)\u001b[0m\u001b[0;34m\u001b[0m\u001b[0;34m\u001b[0m\u001b[0m\n\u001b[0m\u001b[1;32m      4\u001b[0m \u001b[0mvalidation_fraction\u001b[0m \u001b[0;34m=\u001b[0m \u001b[0;36m.2\u001b[0m\u001b[0;34m\u001b[0m\u001b[0;34m\u001b[0m\u001b[0m\n\u001b[1;32m      5\u001b[0m \u001b[0;34m\u001b[0m\u001b[0m\n",
      "\u001b[0;31mNameError\u001b[0m: name 'dataset' is not defined"
     ]
    }
   ],
   "source": [
    "batch_size = 64\n",
    "\n",
    "data_size = len(dataset)\n",
    "validation_fraction = .2\n",
    "\n",
    "\n",
    "val_split = int(np.floor((validation_fraction) * data_size))\n",
    "indices = list(range(data_size))\n",
    "np.random.seed(4)\n",
    "np.random.shuffle(indices)\n",
    "\n",
    "val_indices, train_indices = indices[:val_split], indices[val_split:]\n",
    "\n",
    "train_sampler = SubsetRandomSampler(train_indices)\n",
    "val_sampler = SubsetRandomSampler(val_indices)\n",
    "\n",
    "train_loader = torch.utils.data.DataLoader(train_dataset, batch_size=batch_size, \n",
    "                                           sampler=train_sampler, num_workers=0, pin_memory=True)\n",
    "val_loader = torch.utils.data.DataLoader(train_dataset, batch_size=batch_size,\n",
    "                                         sampler=val_sampler)"
   ]
  },
  {
   "cell_type": "code",
   "execution_count": null,
   "metadata": {},
   "outputs": [],
   "source": []
  }
 ],
 "metadata": {
  "kernelspec": {
   "display_name": "Python 3",
   "language": "python",
   "name": "python3"
  },
  "language_info": {
   "codemirror_mode": {
    "name": "ipython",
    "version": 3
   },
   "file_extension": ".py",
   "mimetype": "text/x-python",
   "name": "python",
   "nbconvert_exporter": "python",
   "pygments_lexer": "ipython3",
   "version": "3.7.3"
  }
 },
 "nbformat": 4,
 "nbformat_minor": 4
}
