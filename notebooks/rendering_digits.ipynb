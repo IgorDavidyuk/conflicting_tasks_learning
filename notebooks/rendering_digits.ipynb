{
 "cells": [
  {
   "cell_type": "code",
   "execution_count": 1,
   "metadata": {
    "scrolled": true
   },
   "outputs": [],
   "source": [
    "import cv2\n",
    "import numpy as np\n",
    "import matplotlib.pyplot as plt\n",
    "import glob\n",
    "import sys\n",
    "import os\n",
    "import pandas as pd\n",
    "%load_ext autoreload\n",
    "%autoreload 2\n",
    "\n",
    "sys.path.append('..')\n",
    "from dataset.create_google_fonts_dataset import parse_google_fonts_metadata\n",
    "from dataset.utils import visualize_set_of_chars, render_character"
   ]
  },
  {
   "cell_type": "code",
   "execution_count": 2,
   "metadata": {
    "scrolled": false
   },
   "outputs": [
    {
     "name": "stdout",
     "output_type": "stream",
     "text": [
      "3\n"
     ]
    },
    {
     "ename": "error",
     "evalue": "OpenCV(4.2.0) /Users/travis/build/skvark/opencv-python/opencv/modules/imgproc/src/resize.cpp:3923: error: (-215:Assertion failed) func != 0 in function 'resize'\n",
     "output_type": "error",
     "traceback": [
      "\u001b[0;31m---------------------------------------------------------------------------\u001b[0m",
      "\u001b[0;31merror\u001b[0m                                     Traceback (most recent call last)",
      "\u001b[0;32m<ipython-input-2-470cf5b9424b>\u001b[0m in \u001b[0;36m<module>\u001b[0;34m\u001b[0m\n\u001b[1;32m      5\u001b[0m \u001b[0;31m# render some random fonts\u001b[0m\u001b[0;34m\u001b[0m\u001b[0;34m\u001b[0m\u001b[0;34m\u001b[0m\u001b[0m\n\u001b[1;32m      6\u001b[0m \u001b[0;32mfor\u001b[0m \u001b[0mfont_path\u001b[0m \u001b[0;32min\u001b[0m \u001b[0mnp\u001b[0m\u001b[0;34m.\u001b[0m\u001b[0mrandom\u001b[0m\u001b[0;34m.\u001b[0m\u001b[0mchoice\u001b[0m\u001b[0;34m(\u001b[0m\u001b[0mgf_metadata\u001b[0m\u001b[0;34m[\u001b[0m\u001b[0mgf_metadata\u001b[0m\u001b[0;34m.\u001b[0m\u001b[0mcategory\u001b[0m\u001b[0;34m==\u001b[0m\u001b[0;34m'SERIF'\u001b[0m\u001b[0;34m]\u001b[0m\u001b[0;34m.\u001b[0m\u001b[0mpath\u001b[0m\u001b[0;34m,\u001b[0m \u001b[0;36m10\u001b[0m\u001b[0;34m)\u001b[0m\u001b[0;34m:\u001b[0m\u001b[0;34m\u001b[0m\u001b[0;34m\u001b[0m\u001b[0m\n\u001b[0;32m----> 7\u001b[0;31m     \u001b[0mvisualize_set_of_chars\u001b[0m\u001b[0;34m(\u001b[0m\u001b[0mfont_path\u001b[0m\u001b[0;34m,\u001b[0m \u001b[0;34m'ABCDEFGHIJKLMNOPQRSTUVWXYZ'\u001b[0m\u001b[0;34m,\u001b[0m \u001b[0;36m64\u001b[0m\u001b[0;34m)\u001b[0m\u001b[0;34m\u001b[0m\u001b[0;34m\u001b[0m\u001b[0m\n\u001b[0m",
      "\u001b[0;32m~/Projects/conflicting_tasks_learning/dataset/utils.py\u001b[0m in \u001b[0;36mvisualize_set_of_chars\u001b[0;34m(font_path, char_set, pic_size)\u001b[0m\n\u001b[1;32m     52\u001b[0m             \u001b[0;32mif\u001b[0m \u001b[0;36m10\u001b[0m\u001b[0;34m*\u001b[0m\u001b[0mi\u001b[0m \u001b[0;34m+\u001b[0m \u001b[0mj\u001b[0m \u001b[0;34m<\u001b[0m \u001b[0mlen\u001b[0m\u001b[0;34m(\u001b[0m\u001b[0mchar_set\u001b[0m\u001b[0;34m)\u001b[0m\u001b[0;34m:\u001b[0m\u001b[0;34m\u001b[0m\u001b[0;34m\u001b[0m\u001b[0m\n\u001b[1;32m     53\u001b[0m                 \u001b[0mchar\u001b[0m \u001b[0;34m=\u001b[0m \u001b[0mchar_set\u001b[0m\u001b[0;34m[\u001b[0m\u001b[0;36m10\u001b[0m\u001b[0;34m*\u001b[0m\u001b[0mi\u001b[0m \u001b[0;34m+\u001b[0m \u001b[0mj\u001b[0m\u001b[0;34m]\u001b[0m\u001b[0;34m\u001b[0m\u001b[0;34m\u001b[0m\u001b[0m\n\u001b[0;32m---> 54\u001b[0;31m                 \u001b[0mimg\u001b[0m \u001b[0;34m=\u001b[0m \u001b[0mrender_character\u001b[0m\u001b[0;34m(\u001b[0m\u001b[0mface\u001b[0m\u001b[0;34m,\u001b[0m \u001b[0mpic_size\u001b[0m\u001b[0;34m,\u001b[0m \u001b[0mchar\u001b[0m\u001b[0;34m)\u001b[0m\u001b[0;34m\u001b[0m\u001b[0;34m\u001b[0m\u001b[0m\n\u001b[0m\u001b[1;32m     55\u001b[0m             \u001b[0;32melse\u001b[0m\u001b[0;34m:\u001b[0m\u001b[0;34m\u001b[0m\u001b[0;34m\u001b[0m\u001b[0m\n\u001b[1;32m     56\u001b[0m                 \u001b[0;32mcontinue\u001b[0m\u001b[0;34m\u001b[0m\u001b[0;34m\u001b[0m\u001b[0m\n",
      "\u001b[0;32m~/Projects/conflicting_tasks_learning/dataset/utils.py\u001b[0m in \u001b[0;36mrender_character\u001b[0;34m(free_type_face, pic_size, char)\u001b[0m\n\u001b[1;32m     30\u001b[0m     \u001b[0mimg\u001b[0m \u001b[0;34m=\u001b[0m \u001b[0mcv2\u001b[0m\u001b[0;34m.\u001b[0m\u001b[0mcopyMakeBorder\u001b[0m\u001b[0;34m(\u001b[0m\u001b[0mimg\u001b[0m\u001b[0;34m,\u001b[0m \u001b[0mtop\u001b[0m\u001b[0;34m,\u001b[0m \u001b[0mbottom\u001b[0m\u001b[0;34m,\u001b[0m \u001b[0mleft\u001b[0m\u001b[0;34m,\u001b[0m \u001b[0mright\u001b[0m\u001b[0;34m,\u001b[0m \u001b[0mcv2\u001b[0m\u001b[0;34m.\u001b[0m\u001b[0mBORDER_CONSTANT\u001b[0m\u001b[0;34m)\u001b[0m \u001b[0;31m# square\u001b[0m\u001b[0;34m\u001b[0m\u001b[0;34m\u001b[0m\u001b[0m\n\u001b[1;32m     31\u001b[0m     \u001b[0;31m# resize\u001b[0m\u001b[0;34m\u001b[0m\u001b[0;34m\u001b[0m\u001b[0;34m\u001b[0m\u001b[0m\n\u001b[0;32m---> 32\u001b[0;31m     \u001b[0;32mreturn\u001b[0m \u001b[0mcv2\u001b[0m\u001b[0;34m.\u001b[0m\u001b[0mresize\u001b[0m\u001b[0;34m(\u001b[0m\u001b[0mimg\u001b[0m\u001b[0;34m,\u001b[0m \u001b[0;34m(\u001b[0m\u001b[0mpic_size\u001b[0m\u001b[0;34m,\u001b[0m\u001b[0mpic_size\u001b[0m\u001b[0;34m)\u001b[0m\u001b[0;34m)\u001b[0m\u001b[0;34m\u001b[0m\u001b[0;34m\u001b[0m\u001b[0m\n\u001b[0m\u001b[1;32m     33\u001b[0m \u001b[0;34m\u001b[0m\u001b[0m\n\u001b[1;32m     34\u001b[0m \u001b[0;32mdef\u001b[0m \u001b[0mvisualize_set_of_chars\u001b[0m\u001b[0;34m(\u001b[0m\u001b[0mfont_path\u001b[0m\u001b[0;34m,\u001b[0m \u001b[0mchar_set\u001b[0m\u001b[0;34m,\u001b[0m \u001b[0mpic_size\u001b[0m\u001b[0;34m=\u001b[0m\u001b[0;36m64\u001b[0m\u001b[0;34m)\u001b[0m\u001b[0;34m:\u001b[0m\u001b[0;34m\u001b[0m\u001b[0;34m\u001b[0m\u001b[0m\n",
      "\u001b[0;31merror\u001b[0m: OpenCV(4.2.0) /Users/travis/build/skvark/opencv-python/opencv/modules/imgproc/src/resize.cpp:3923: error: (-215:Assertion failed) func != 0 in function 'resize'\n"
     ]
    },
    {
     "data": {
      "image/png": "[encoded data removed]",
      "text/plain": [
       "<Figure size 1296x360 with 30 Axes>"
      ]
     },
     "metadata": {
      "needs_background": "light"
     },
     "output_type": "display_data"
    }
   ],
   "source": [
    "# parse Google Font repo\n",
    "google_fonts_path = '../dataset/fonts/ofl/'\n",
    "gf_metadata = parse_google_fonts_metadata(google_fonts_path)\n",
    "\n",
    "# render some random fonts\n",
    "for font_path in np.random.choice(gf_metadata[gf_metadata.category=='SERIF'].path, 10):\n",
    "    visualize_set_of_chars(font_path, 'ABCDEFGHIJKLMNOPQRSTUVWXYZ', 64)"
   ]
  },
  {
   "cell_type": "code",
   "execution_count": 51,
   "metadata": {
    "scrolled": false
   },
   "outputs": [
    {
     "name": "stdout",
     "output_type": "stream",
     "text": [
      "['khmer', 'menu']\n",
      "normal\n",
      "['bengali']\n",
      "normal\n",
      "['khmer', 'menu']\n",
      "normal\n",
      "['khmer', 'menu']\n",
      "normal\n",
      "['korean', 'menu']\n",
      "normal\n",
      "['menu', 'khmer']\n",
      "normal\n",
      "['menu', 'khmer']\n",
      "normal\n",
      "['menu', 'khmer']\n",
      "normal\n",
      "['korean', 'menu']\n",
      "normal\n",
      "['menu', 'lao']\n",
      "normal\n",
      "['menu', 'lao']\n",
      "normal\n",
      "['menu', 'khmer']\n",
      "normal\n",
      "['menu', 'khmer']\n",
      "normal\n",
      "['menu', 'khmer']\n",
      "normal\n",
      "['menu', 'korean']\n",
      "normal\n",
      "['menu', 'korean']\n",
      "normal\n",
      "['korean', 'menu']\n",
      "normal\n",
      "['menu', 'khmer']\n",
      "normal\n",
      "['menu', 'khmer']\n",
      "normal\n",
      "['menu']\n",
      "normal\n",
      "['korean', 'menu']\n",
      "normal\n",
      "['korean', 'menu']\n",
      "normal\n",
      "['khmer', 'menu']\n",
      "normal\n",
      "['menu', 'khmer']\n",
      "normal\n",
      "['menu', 'khmer']\n",
      "normal\n",
      "['khmer', 'menu']\n",
      "normal\n",
      "['khmer', 'menu']\n",
      "normal\n",
      "['khmer', 'menu']\n",
      "normal\n",
      "['korean', 'menu']\n",
      "normal\n",
      "['korean', 'menu']\n",
      "normal\n",
      "['korean', 'menu']\n",
      "normal\n",
      "['menu', 'khmer']\n",
      "normal\n",
      "['menu', 'korean']\n",
      "normal\n",
      "['menu', 'khmer']\n",
      "normal\n",
      "['menu', 'khmer']\n",
      "normal\n",
      "['menu', 'khmer']\n",
      "normal\n",
      "['khmer', 'menu']\n",
      "normal\n",
      "['menu', 'khmer']\n",
      "normal\n",
      "['menu', 'khmer']\n",
      "normal\n",
      "['tamil']\n",
      "normal\n",
      "['tamil']\n",
      "normal\n",
      "['tamil']\n",
      "normal\n",
      "['tamil']\n",
      "normal\n",
      "['menu', 'khmer']\n",
      "normal\n",
      "['korean', 'menu']\n",
      "normal\n",
      "['menu', 'myanmar']\n",
      "normal\n",
      "['korean', 'menu']\n",
      "normal\n",
      "['korean', 'menu']\n",
      "normal\n",
      "['menu', 'greek']\n",
      "normal\n",
      "['menu', 'greek']\n",
      "italic\n",
      "['menu', 'greek']\n",
      "normal\n",
      "['menu', 'greek']\n",
      "italic\n",
      "['menu', 'tamil']\n",
      "normal\n",
      "['menu', 'greek']\n",
      "normal\n",
      "['menu', 'khmer']\n",
      "normal\n",
      "['menu', 'khmer']\n",
      "normal\n",
      "['menu', 'khmer']\n",
      "normal\n",
      "['korean', 'menu']\n",
      "normal\n",
      "['lao']\n",
      "normal\n",
      "['lao']\n",
      "normal\n",
      "['korean', 'menu']\n",
      "normal\n",
      "['korean', 'menu']\n",
      "normal\n",
      "['korean', 'menu']\n",
      "normal\n"
     ]
    }
   ],
   "source": [
    "for i, row in gf_metadata.iterrows():\n",
    "    conditions = ('latin' in row.subsets) and (row.style is 'normal')\n",
    "    if :\n",
    "        print(row.subsets)\n",
    "        print(row.style)"
   ]
  },
  {
   "cell_type": "markdown",
   "metadata": {},
   "source": [
    "# Explore Google Fonts set"
   ]
  },
  {
   "cell_type": "code",
   "execution_count": 52,
   "metadata": {},
   "outputs": [
    {
     "name": "stdout",
     "output_type": "stream",
     "text": [
      "Presented Font categories:\n",
      "['DISPLAY' 'SERIF' 'HANDWRITING' 'SANS_SERIF' 'MONOSPACE' 'Monospace'] \n",
      "\n",
      "Total number of fonts\n",
      "2753 \n",
      "\n",
      "18.27% of them are DISPLAY\n",
      "23.28% of them are SERIF\n",
      "6.43% of them are HANDWRITING\n",
      "49.33% of them are SANS_SERIF\n",
      "2.65% of them are MONOSPACE\n",
      "0.04% of them are Monospace\n",
      "including various styles\n"
     ]
    }
   ],
   "source": [
    "unique_categories = gf_metadata.category.unique()\n",
    "print('Presented Font categories:')\n",
    "print(unique_categories,'\\n')\n",
    "print('Total number of fonts')\n",
    "print(len(gf_metadata),'\\n')\n",
    "for cat in unique_categories:\n",
    "    fracture = len(gf_metadata[gf_metadata.category==cat]) / len(gf_metadata)\n",
    "    print(f'{100*fracture:.2f}% of them are {cat}')\n",
    "print('including various styles')"
   ]
  },
  {
   "cell_type": "code",
   "execution_count": 26,
   "metadata": {},
   "outputs": [],
   "source": [
    "from freetype import *\n",
    "face = Face(font_path)"
   ]
  },
  {
   "cell_type": "code",
   "execution_count": 30,
   "metadata": {
    "scrolled": false
   },
   "outputs": [
    {
     "data": {
      "text/plain": [
       "'['"
      ]
     },
     "execution_count": 30,
     "metadata": {},
     "output_type": "execute_result"
    }
   ],
   "source": [
    "char_set = []\n",
    "str(list(range(10)))[0]\n",
    "# print ('Family name:         {}'.format(face.family_name))\n",
    "# print ('Style name:          {}'.format(face.style_name))\n",
    "# print ('Charmaps:            {}'.format([charmap.encoding_name for charmap in face.charmaps]))\n",
    "# print ('')\n",
    "# print ('Face number:         {}'.format(face.num_faces))\n",
    "# print ('Glyph number:        {}'.format(face.num_glyphs))\n",
    "# print ('Available sizes:     {}'.format(face.available_sizes))\n",
    "# print ('')\n",
    "# print ('units per em:        {}'.format(face.units_per_EM))\n",
    "# print ('ascender:            {}'.format(face.ascender))\n",
    "# print ('descender:           {}'.format(face.descender))\n",
    "# print ('height:              {}'.format(face.height))\n",
    "# print ('')\n",
    "# print ('max_advance_width:   {}'.format(face.max_advance_width))\n",
    "# print ('max_advance_height:  {}'.format(face.max_advance_height))\n",
    "# print ('')\n",
    "# print ('underline_position:  {}'.format(face.underline_position))\n",
    "# print ('underline_thickness: {}'.format(face.underline_thickness))\n",
    "# print ('')\n",
    "# print ('Has horizontal:      {}'.format(face.has_horizontal))\n",
    "# print ('Has vertical:        {}'.format(face.has_vertical))\n",
    "# print ('Has kerning:         {}'.format(face.has_kerning))\n",
    "# print ('Is fixed width:      {}'.format(face.is_fixed_width))\n",
    "# print ('Is scalable:         {}'.format(face.is_scalable))\n",
    "# print ('')"
   ]
  },
  {
   "cell_type": "code",
   "execution_count": null,
   "metadata": {},
   "outputs": [],
   "source": []
  }
 ],
 "metadata": {
  "kernelspec": {
   "display_name": "Python 3",
   "language": "python",
   "name": "python3"
  },
  "language_info": {
   "codemirror_mode": {
    "name": "ipython",
    "version": 3
   },
   "file_extension": ".py",
   "mimetype": "text/x-python",
   "name": "python",
   "nbconvert_exporter": "python",
   "pygments_lexer": "ipython3",
   "version": "3.7.3"
  }
 },
 "nbformat": 4,
 "nbformat_minor": 4
}
